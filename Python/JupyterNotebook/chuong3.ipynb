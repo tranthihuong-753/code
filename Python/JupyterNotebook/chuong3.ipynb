{
 "cells": [
  {
   "cell_type": "code",
   "execution_count": null,
   "id": "5657dc99",
   "metadata": {},
   "outputs": [],
   "source": []
  },
  {
   "cell_type": "code",
   "execution_count": 18,
   "id": "45cbc9ad",
   "metadata": {},
   "outputs": [
    {
     "data": {
      "text/plain": [
       "(15,)"
      ]
     },
     "execution_count": 18,
     "metadata": {},
     "output_type": "execute_result"
    }
   ],
   "source": [
    "import numpy as ny \n",
    "# Tạo mảng\n",
    "arr=ny.linspace(1, 15, 15)\n",
    "# Kích thước mảng \n",
    "arr.size \n",
    "# Số chiều \n",
    "arr.ndim \n",
    "# Đổi kiểu dữ liệu của mảng \n",
    "arr.astype('float16')\n",
    "# Thêm phần tử vào mảng \n",
    "arr1=ny.linspace(-3,-1,3)\n",
    "arr1=ny.append(arr1, arr)\n",
    "# Xóa 1 phần tử \n",
    "arr=ny.delete(arr, 4)\n",
    "arr.shape"
   ]
  },
  {
   "cell_type": "code",
   "execution_count": 21,
   "id": "c83a4fc0",
   "metadata": {},
   "outputs": [
    {
     "name": "stdout",
     "output_type": "stream",
     "text": [
      "Collecting pandas\n",
      "  Downloading pandas-1.1.5-cp36-cp36m-win_amd64.whl (8.7 MB)\n",
      "Collecting pytz>=2017.2\n",
      "  Downloading pytz-2024.1-py2.py3-none-any.whl (505 kB)\n",
      "Requirement already satisfied: python-dateutil>=2.7.3 in c:\\anaconda\\envs\\tensorflow_env\\lib\\site-packages (from pandas) (2.8.2)\n",
      "Requirement already satisfied: numpy>=1.15.4 in c:\\anaconda\\envs\\tensorflow_env\\lib\\site-packages (from pandas) (1.19.2)\n",
      "Requirement already satisfied: six>=1.5 in c:\\anaconda\\envs\\tensorflow_env\\lib\\site-packages (from python-dateutil>=2.7.3->pandas) (1.16.0)\n",
      "Installing collected packages: pytz, pandas\n",
      "Successfully installed pandas-1.1.5 pytz-2024.1\n"
     ]
    }
   ],
   "source": [
    "#Bai 3 \n",
    "!pip install pandas"
   ]
  },
  {
   "cell_type": "code",
   "execution_count": 26,
   "id": "14374dbb",
   "metadata": {},
   "outputs": [
    {
     "data": {
      "text/plain": [
       "Dung     208\n",
       "Thu     2010\n",
       "Di      2205\n",
       "dtype: int64"
      ]
     },
     "execution_count": 26,
     "metadata": {},
     "output_type": "execute_result"
    }
   ],
   "source": [
    "#Tạo Series \n",
    "import pandas as pd\n",
    "import numpy as ny \n",
    "#Tạo Series từ 1 danh sách\n",
    "pd.Series(['Hường', 'Dũng', 'Di', 'Thu'])\n",
    "#Tạo Series từ mảng NumPy\n",
    "pd.Series(ny.array(['Hường', 'Dũng', 'Di', 'Thu']))\n",
    "#Tạo Series bằng từ điển \n",
    "giaToc={'Dung':208, 'Thu':2010, 'Di':2205}\n",
    "pd.Series(giaToc)"
   ]
  },
  {
   "cell_type": "code",
   "execution_count": 38,
   "id": "8df39f40",
   "metadata": {},
   "outputs": [
    {
     "name": "stdout",
     "output_type": "stream",
     "text": [
      "Gia        900\n",
      "Soluong     15\n",
      "Name: Ngay3, dtype: int64\n"
     ]
    }
   ],
   "source": [
    "import pandas\n",
    "\n",
    "data = {'Gia': [500,600,900], 'Soluong': [5,10,15]}\n",
    "df_data = pandas.DataFrame(data, index=['Ngay1','Ngay2','Ngay3'])\n",
    "print(df_data.loc['Ngay3'])"
   ]
  },
  {
   "cell_type": "code",
   "execution_count": null,
   "id": "0f9761b1",
   "metadata": {},
   "outputs": [],
   "source": []
  },
  {
   "cell_type": "code",
   "execution_count": 2,
   "id": "f76b1d94",
   "metadata": {},
   "outputs": [
    {
     "data": {
      "text/plain": [
       "birthday    2010.0\n",
       "dtype: float64"
      ]
     },
     "execution_count": 2,
     "metadata": {},
     "output_type": "execute_result"
    }
   ],
   "source": [
    "#Tạo DataFrames \n",
    "import pandas as pd\n",
    "# Tạo DataFrame \n",
    "dataFrame1=pd.DataFrame({'name':['Dung', 'Thu', 'Di'], 'birthday':[208, 2010, 2206]})\n",
    "#Lấy 1 ô dữ liệu (name không thay được bằng số)\n",
    "dataFrame1['name'][1]\n",
    "#Lấy 1 cột dữ liệu \n",
    "dataFrame1['name']\n",
    "#Lấy 1 hàng dữ liệu \n",
    "dataFrame2=pd.DataFrame({'name':['Dung', 'Thu', 'Di'], 'birthday':[208, 2010, 2206]}, index=['a1', 'a2', 'a3'])\n",
    "dataFrame2.loc['a1']\n",
    "#Hàm  \n",
    "dataFrame1.sum()\n",
    "dataFrame1.mean()\n",
    "dataFrame1.median() "
   ]
  },
  {
   "cell_type": "code",
   "execution_count": null,
   "id": "0b1de799",
   "metadata": {},
   "outputs": [],
   "source": []
  }
 ],
 "metadata": {
  "kernelspec": {
   "display_name": "Python 3",
   "language": "python",
   "name": "python3"
  },
  "language_info": {
   "codemirror_mode": {
    "name": "ipython",
    "version": 3
   },
   "file_extension": ".py",
   "mimetype": "text/x-python",
   "name": "python",
   "nbconvert_exporter": "python",
   "pygments_lexer": "ipython3",
   "version": "3.6.13"
  }
 },
 "nbformat": 4,
 "nbformat_minor": 5
}
