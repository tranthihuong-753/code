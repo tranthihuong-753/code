{
 "cells": [
  {
   "cell_type": "code",
   "execution_count": 13,
   "id": "c597a839",
   "metadata": {},
   "outputs": [
    {
     "data": {
      "text/plain": [
       "RangeIndex(start=0, stop=4, step=1)"
      ]
     },
     "execution_count": 13,
     "metadata": {},
     "output_type": "execute_result"
    }
   ],
   "source": [
    "# Các cách tạo 1 series\n",
    "import pandas as pd \n",
    "import numpy as np \n",
    "# Từ 1 danh sách \n",
    "danhSach=['Dun', 10, 2.6, 'Hoa']\n",
    "se1=pd.Series(danhSach)\n",
    "## Start, Stop, Step \n",
    "se1.index \n",
    "# Từ mảng Numpy \n",
    "danhSach=['Dun', 'Thu', 'Di']\n",
    "arr=np.array(danhSach)\n",
    "pd.Series(arr)\n",
    "# Bằng từ điển 'mangChiMuc':mangGiaTriDuLieu\n",
    "tuDien={'Dun':28, 'Thu':21, 'Di':46}\n",
    "se=pd.Series(tuDien)\n",
    "## Lấy riêng mangChiMuc \n",
    "se.index \n",
    "## Lấy riêng mangDuLieu \n",
    "se.values \n"
   ]
  },
  {
   "cell_type": "code",
   "execution_count": 24,
   "id": "7d3c1ae7",
   "metadata": {},
   "outputs": [
    {
     "data": {
      "text/html": [
       "<div>\n",
       "<style scoped>\n",
       "    .dataframe tbody tr th:only-of-type {\n",
       "        vertical-align: middle;\n",
       "    }\n",
       "\n",
       "    .dataframe tbody tr th {\n",
       "        vertical-align: top;\n",
       "    }\n",
       "\n",
       "    .dataframe thead th {\n",
       "        text-align: right;\n",
       "    }\n",
       "</style>\n",
       "<table border=\"1\" class=\"dataframe\">\n",
       "  <thead>\n",
       "    <tr style=\"text-align: right;\">\n",
       "      <th></th>\n",
       "      <th>0</th>\n",
       "    </tr>\n",
       "  </thead>\n",
       "  <tbody>\n",
       "    <tr>\n",
       "      <th>0</th>\n",
       "      <td>Dun</td>\n",
       "    </tr>\n",
       "    <tr>\n",
       "      <th>1</th>\n",
       "      <td>Thu</td>\n",
       "    </tr>\n",
       "    <tr>\n",
       "      <th>2</th>\n",
       "      <td>Di</td>\n",
       "    </tr>\n",
       "  </tbody>\n",
       "</table>\n",
       "</div>"
      ],
      "text/plain": [
       "     0\n",
       "0  Dun\n",
       "1  Thu\n",
       "2   Di"
      ]
     },
     "execution_count": 24,
     "metadata": {},
     "output_type": "execute_result"
    }
   ],
   "source": [
    "# Các cách tạo 1 dataFrame \n",
    "import pandas as pd \n",
    "import numpy as np \n",
    "# Từ 1 danh sách \n",
    "danhSach=['Dun', 10, 2.6, 'Hoa']\n",
    "pd.DataFrame(danhSach)\n",
    "# Bằng từ điển \n",
    "df=pd.DataFrame({\n",
    "    \"name\":[\"Chó\", \"Mèo\", \"Sao\"],\n",
    "    \"sex\":[\"đực\", \"cái\", \"chưa rõ\"]\n",
    "})\n",
    "## Lấy 1 ô \n",
    "df[\"name\"][0]\n",
    "## Lấy 1 cột \n",
    "df[\"sex\"]\n",
    "##Lấy 1 hàng \n",
    "dfNew=pd.DataFrame({\n",
    "    \"name\":[\"Chó\", \"Mèo\", \"Sao\"],\n",
    "    \"sex\":[\"đực\", \"cái\", \"chưa rõ\"]\n",
    "},\n",
    "    index=['a1', 'a2', 'a3'])\n",
    "dfNew.loc['a2']\n",
    "# Từ mảng Numpy \n",
    "danhSach=['Dun', 'Thu', 'Di']\n",
    "arr=np.array(danhSach)\n",
    "pd.DataFrame(arr)"
   ]
  },
  {
   "cell_type": "code",
   "execution_count": 33,
   "id": "3a2bb92a",
   "metadata": {},
   "outputs": [
    {
     "data": {
      "text/plain": [
       "0    0\n",
       "1    9\n",
       "dtype: int64"
      ]
     },
     "execution_count": 33,
     "metadata": {},
     "output_type": "execute_result"
    }
   ],
   "source": [
    "# Cộng trừ nhân chia series \n",
    "import pandas as pd\n",
    "se1=pd.Series(['Chó', 12])\n",
    "se2=pd.Series(['Mèo', 21])\n",
    "se1+se2\n",
    "\n",
    "se3=pd.Series([12, 9])\n",
    "se4=pd.Series([4, 16])\n",
    "se3+se4\n",
    "se3-se4 \n",
    "se3*se4 \n",
    "se3/se4 \n",
    "se3%se4 "
   ]
  },
  {
   "cell_type": "code",
   "execution_count": 37,
   "id": "91766dcd",
   "metadata": {},
   "outputs": [
    {
     "data": {
      "text/html": [
       "<div>\n",
       "<style scoped>\n",
       "    .dataframe tbody tr th:only-of-type {\n",
       "        vertical-align: middle;\n",
       "    }\n",
       "\n",
       "    .dataframe tbody tr th {\n",
       "        vertical-align: top;\n",
       "    }\n",
       "\n",
       "    .dataframe thead th {\n",
       "        text-align: right;\n",
       "    }\n",
       "</style>\n",
       "<table border=\"1\" class=\"dataframe\">\n",
       "  <thead>\n",
       "    <tr style=\"text-align: right;\">\n",
       "      <th></th>\n",
       "      <th>name</th>\n",
       "      <th>sex</th>\n",
       "      <th>tenCotMoi</th>\n",
       "    </tr>\n",
       "  </thead>\n",
       "  <tbody>\n",
       "    <tr>\n",
       "      <th>0</th>\n",
       "      <td>Chó</td>\n",
       "      <td>đực</td>\n",
       "      <td>3</td>\n",
       "    </tr>\n",
       "    <tr>\n",
       "      <th>1</th>\n",
       "      <td>Mèo</td>\n",
       "      <td>cái</td>\n",
       "      <td>3</td>\n",
       "    </tr>\n",
       "    <tr>\n",
       "      <th>2</th>\n",
       "      <td>Sao</td>\n",
       "      <td>chưa rõ</td>\n",
       "      <td>3</td>\n",
       "    </tr>\n",
       "    <tr>\n",
       "      <th>3</th>\n",
       "      <td>1</td>\n",
       "      <td>1</td>\n",
       "      <td>3</td>\n",
       "    </tr>\n",
       "  </tbody>\n",
       "</table>\n",
       "</div>"
      ],
      "text/plain": [
       "  name      sex  tenCotMoi\n",
       "0  Chó      đực          3\n",
       "1  Mèo      cái          3\n",
       "2  Sao  chưa rõ          3\n",
       "3    1        1          3"
      ]
     },
     "execution_count": 37,
     "metadata": {},
     "output_type": "execute_result"
    }
   ],
   "source": [
    "# DataFrame \n",
    "import pandas as pd \n",
    "import numpy as np \n",
    "df=pd.DataFrame({\n",
    "    \"name\":[\"Chó\", \"Mèo\", \"Sao\"],\n",
    "    \"sex\":[\"đực\", \"cái\", \"chưa rõ\"]\n",
    "})\n",
    "# Thêm hàng \n",
    "df.loc[3]=1\n",
    "df \n",
    "#Thêm cột \n",
    "df['tenCotMoi']=3\n",
    "df"
   ]
  },
  {
   "cell_type": "code",
   "execution_count": 38,
   "id": "46a807e4",
   "metadata": {},
   "outputs": [
    {
     "name": "stdout",
     "output_type": "stream",
     "text": [
      "Collecting seaborn\n",
      "  Downloading seaborn-0.11.2-py3-none-any.whl (292 kB)\n",
      "Requirement already satisfied: matplotlib>=2.2 in c:\\anaconda\\envs\\tensorflow_env\\lib\\site-packages (from seaborn) (3.3.4)\n",
      "Requirement already satisfied: scipy>=1.0 in c:\\anaconda\\envs\\tensorflow_env\\lib\\site-packages (from seaborn) (1.5.2)\n",
      "Requirement already satisfied: numpy>=1.15 in c:\\anaconda\\envs\\tensorflow_env\\lib\\site-packages (from seaborn) (1.19.2)\n",
      "Requirement already satisfied: pandas>=0.23 in c:\\anaconda\\envs\\tensorflow_env\\lib\\site-packages (from seaborn) (1.1.5)\n",
      "Requirement already satisfied: pyparsing!=2.0.4,!=2.1.2,!=2.1.6,>=2.0.3 in c:\\anaconda\\envs\\tensorflow_env\\lib\\site-packages (from matplotlib>=2.2->seaborn) (3.0.4)\n",
      "Requirement already satisfied: python-dateutil>=2.1 in c:\\anaconda\\envs\\tensorflow_env\\lib\\site-packages (from matplotlib>=2.2->seaborn) (2.8.2)\n",
      "Requirement already satisfied: kiwisolver>=1.0.1 in c:\\anaconda\\envs\\tensorflow_env\\lib\\site-packages (from matplotlib>=2.2->seaborn) (1.3.1)\n",
      "Requirement already satisfied: cycler>=0.10 in c:\\anaconda\\envs\\tensorflow_env\\lib\\site-packages (from matplotlib>=2.2->seaborn) (0.11.0)\n",
      "Requirement already satisfied: pillow>=6.2.0 in c:\\anaconda\\envs\\tensorflow_env\\lib\\site-packages (from matplotlib>=2.2->seaborn) (8.4.0)\n",
      "Requirement already satisfied: pytz>=2017.2 in c:\\anaconda\\envs\\tensorflow_env\\lib\\site-packages (from pandas>=0.23->seaborn) (2024.1)\n",
      "Requirement already satisfied: six>=1.5 in c:\\anaconda\\envs\\tensorflow_env\\lib\\site-packages (from python-dateutil>=2.1->matplotlib>=2.2->seaborn) (1.16.0)\n",
      "Installing collected packages: seaborn\n",
      "Successfully installed seaborn-0.11.2\n"
     ]
    }
   ],
   "source": [
    "!pip install seaborn"
   ]
  },
  {
   "cell_type": "code",
   "execution_count": 47,
   "id": "bd3a075a",
   "metadata": {},
   "outputs": [],
   "source": [
    "import seaborn as sb"
   ]
  },
  {
   "cell_type": "code",
   "execution_count": 53,
   "id": "65953807",
   "metadata": {},
   "outputs": [
    {
     "data": {
      "text/html": [
       "<div>\n",
       "<style scoped>\n",
       "    .dataframe tbody tr th:only-of-type {\n",
       "        vertical-align: middle;\n",
       "    }\n",
       "\n",
       "    .dataframe tbody tr th {\n",
       "        vertical-align: top;\n",
       "    }\n",
       "\n",
       "    .dataframe thead th {\n",
       "        text-align: right;\n",
       "    }\n",
       "</style>\n",
       "<table border=\"1\" class=\"dataframe\">\n",
       "  <thead>\n",
       "    <tr style=\"text-align: right;\">\n",
       "      <th></th>\n",
       "      <th>name</th>\n",
       "      <th>sex</th>\n",
       "      <th>name</th>\n",
       "      <th>sex</th>\n",
       "      <th>hi hi</th>\n",
       "    </tr>\n",
       "  </thead>\n",
       "  <tbody>\n",
       "    <tr>\n",
       "      <th>0</th>\n",
       "      <td>Chó</td>\n",
       "      <td>đực</td>\n",
       "      <td>Cá</td>\n",
       "      <td>đực</td>\n",
       "      <td>chép</td>\n",
       "    </tr>\n",
       "    <tr>\n",
       "      <th>1</th>\n",
       "      <td>Mèo</td>\n",
       "      <td>cái</td>\n",
       "      <td>Mực</td>\n",
       "      <td>cái</td>\n",
       "      <td>biển</td>\n",
       "    </tr>\n",
       "    <tr>\n",
       "      <th>2</th>\n",
       "      <td>Sao</td>\n",
       "      <td>chưa rõ</td>\n",
       "      <td>Sao</td>\n",
       "      <td>chưa rõ</td>\n",
       "      <td>trời</td>\n",
       "    </tr>\n",
       "  </tbody>\n",
       "</table>\n",
       "</div>"
      ],
      "text/plain": [
       "  name      sex name      sex hi hi\n",
       "0  Chó      đực   Cá      đực  chép\n",
       "1  Mèo      cái  Mực      cái  biển\n",
       "2  Sao  chưa rõ  Sao  chưa rõ  trời"
      ]
     },
     "execution_count": 53,
     "metadata": {},
     "output_type": "execute_result"
    }
   ],
   "source": [
    "# KẾt nối 2 dataFrame \n",
    "import pandas as pd\n",
    "df1=pd.DataFrame({\n",
    "    \"name\":[\"Chó\", \"Mèo\", \"Sao\"],\n",
    "    \"sex\":[\"đực\", \"cái\", \"chưa rõ\"]\n",
    "})\n",
    "df2=pd.DataFrame({\n",
    "    \"name\":[\"Cá\", \"Mực\", \"Sao\"],\n",
    "    \"sex\":[\"đực\", \"cái\", \"chưa rõ\"],\n",
    "    \"hi hi\": [\"chép\", \"biển\", \"trời\"]\n",
    "})\n",
    "pd.merge(df1, df2, on=\"name\") # Kết nối trong\n",
    "pd.merge(df1, df2, left_on=\"name\", right_on=\"name\", how=\"inner\") # Kết nối trong\n",
    "pd.merge(df1, df2, left_on=\"name\", right_on=\"name\", how=\"left\") # Kết nối trái \n",
    "pd.merge(df1, df2, left_on=\"name\", right_on=\"name\", how=\"right\") # Kết nối phải \n",
    "pd.merge(df1, df2, left_on=\"name\", right_on=\"name\", how=\"outer\") # Kết nối ngoài đầy đủ \n",
    "\n",
    "pd.concat([df1, df2], sort=True) # Liên kết theo chiều dọc bằng cách khớp tên cột.\n",
    "pd.concat([df1, df2], axis=1, sort=True) # Liên kết theo chiều ngang bằng cách khớp các chỉ số.\n"
   ]
  },
  {
   "cell_type": "code",
   "execution_count": 58,
   "id": "73916257",
   "metadata": {},
   "outputs": [
    {
     "data": {
      "text/html": [
       "<div>\n",
       "<style scoped>\n",
       "    .dataframe tbody tr th:only-of-type {\n",
       "        vertical-align: middle;\n",
       "    }\n",
       "\n",
       "    .dataframe tbody tr th {\n",
       "        vertical-align: top;\n",
       "    }\n",
       "\n",
       "    .dataframe thead th {\n",
       "        text-align: right;\n",
       "    }\n",
       "</style>\n",
       "<table border=\"1\" class=\"dataframe\">\n",
       "  <thead>\n",
       "    <tr style=\"text-align: right;\">\n",
       "      <th></th>\n",
       "      <th>name</th>\n",
       "      <th>sex</th>\n",
       "      <th>hi hi</th>\n",
       "    </tr>\n",
       "  </thead>\n",
       "  <tbody>\n",
       "    <tr>\n",
       "      <th>0</th>\n",
       "      <td>Cá</td>\n",
       "      <td>đực</td>\n",
       "      <td>chép</td>\n",
       "    </tr>\n",
       "    <tr>\n",
       "      <th>1</th>\n",
       "      <td>Mực</td>\n",
       "      <td>cái</td>\n",
       "      <td>biển</td>\n",
       "    </tr>\n",
       "    <tr>\n",
       "      <th>2</th>\n",
       "      <td>Sao</td>\n",
       "      <td>chưa rõ</td>\n",
       "      <td>trời</td>\n",
       "    </tr>\n",
       "  </tbody>\n",
       "</table>\n",
       "</div>"
      ],
      "text/plain": [
       "  name      sex hi hi\n",
       "0   Cá      đực  chép\n",
       "1  Mực      cái  biển\n",
       "2  Sao  chưa rõ  trời"
      ]
     },
     "execution_count": 58,
     "metadata": {},
     "output_type": "execute_result"
    }
   ],
   "source": [
    "# Sắp xếp dataFrame \n",
    "import pandas as pd\n",
    "df1=pd.DataFrame({\n",
    "    \"name\":[\"Chó\", \"Mèo\", \"Sao\"],\n",
    "    \"sex\":[\"đực\", \"cái\", \"chưa rõ\"]\n",
    "})\n",
    "df2=pd.DataFrame({\n",
    "    \"name\":[\"Cá\", \"Mực\", \"Sao\"],\n",
    "    \"sex\":[\"đực\", \"cái\", \"chưa rõ\"],\n",
    "    \"hi hi\": [\"chép\", \"biển\", \"trời\"]\n",
    "})\n",
    "\n",
    "df1.sort_values(by='name')#Sắp xếp theo thứ tự tăng dần.\n",
    "df1.sort_values(by='name', ascending=False)#Sắp xếp theo thứ tự tăng dần.\n",
    "df2.sort_values(by=['name', 'sex'])#Sắp xếp theo2 cột \n"
   ]
  },
  {
   "cell_type": "code",
   "execution_count": null,
   "id": "fc48dfd3",
   "metadata": {},
   "outputs": [],
   "source": [
    "# Kiểm tra dữ liệu bị thiếu bằng Mode, \n",
    "# Kiểm tra dữ liệu trùng lặp .duplicated \n"
   ]
  },
  {
   "cell_type": "code",
   "execution_count": null,
   "id": "bc129937",
   "metadata": {},
   "outputs": [],
   "source": [
    "# Kỹ thuật tính năng : tạo nhiề biến từ 1 biến \n",
    "# Biến dẫn xuất, biến giả \n",
    "# Mã hóa one-hot \n",
    "# Mã hóa nhãn "
   ]
  },
  {
   "cell_type": "code",
   "execution_count": 62,
   "id": "3c20e22a",
   "metadata": {},
   "outputs": [
    {
     "data": {
      "image/png": "[encoded data removed]",
      "text/plain": [
       "<Figure size 432x288 with 1 Axes>"
      ]
     },
     "metadata": {
      "needs_background": "light"
     },
     "output_type": "display_data"
    }
   ],
   "source": [
    "# Biểu đò cột \n",
    "import matplotlib.pyplot as plt\n",
    "import numpy as np\n",
    "%matplotlib inline\n",
    "\n",
    "x=np.array(['q1', 'q2', 'q3', 'a4'])\n",
    "y=np.array([239.0, 234.2, 873.2, 973])\n",
    "plt.bar(x, y, color='purple')\n",
    "plt.title('BAR CHART')\n",
    "plt.show()\n",
    "# nhiều loại \n",
    "# Phân tán ô với hàm plot() và linestyle ='none':\n"
   ]
  },
  {
   "cell_type": "code",
   "execution_count": null,
   "id": "3d03edcf",
   "metadata": {},
   "outputs": [],
   "source": [
    "# Vẽ đồ thị nâng cao với thư viện Seaborn"
   ]
  }
 ],
 "metadata": {
  "kernelspec": {
   "display_name": "Python 3",
   "language": "python",
   "name": "python3"
  },
  "language_info": {
   "codemirror_mode": {
    "name": "ipython",
    "version": 3
   },
   "file_extension": ".py",
   "mimetype": "text/x-python",
   "name": "python",
   "nbconvert_exporter": "python",
   "pygments_lexer": "ipython3",
   "version": "3.6.13"
  }
 },
 "nbformat": 4,
 "nbformat_minor": 5
}
